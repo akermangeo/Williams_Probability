{
 "cells": [
  {
   "cell_type": "code",
   "execution_count": 270,
   "metadata": {},
   "outputs": [],
   "source": [
    "import sympy as sp"
   ]
  },
  {
   "cell_type": "code",
   "execution_count": 271,
   "metadata": {},
   "outputs": [],
   "source": [
    "p_a, p_b, p_kill_a, p_kill_b= sp.symbols('p_a p_b p_a__kill p_b__kill')"
   ]
  },
  {
   "cell_type": "code",
   "execution_count": 272,
   "metadata": {},
   "outputs": [],
   "source": [
    "prob_kill_a_equ = p_kill_a - (p_a + p_a*p_kill_a**2 + 2*p_b*p_kill_a*p_kill_b)"
   ]
  },
  {
   "cell_type": "code",
   "execution_count": 273,
   "metadata": {},
   "outputs": [
    {
     "data": {
      "text/latex": [
       "$\\displaystyle \\frac{- p_{a} + p^{kill}_{a} \\left(- p_{a} p^{kill}_{a} + 1\\right)}{2 p^{kill}_{a} p_{b}}$"
      ],
      "text/plain": [
       "(-p_a + p_a__kill*(-p_a*p_a__kill + 1))/(2*p_a__kill*p_b)"
      ]
     },
     "execution_count": 273,
     "metadata": {},
     "output_type": "execute_result"
    }
   ],
   "source": [
    "p_kill_b = sp.solve(prob_kill_a_equ,p_kill_b)[0]\n",
    "p_kill_b"
   ]
  },
  {
   "cell_type": "code",
   "execution_count": 274,
   "metadata": {},
   "outputs": [
    {
     "data": {
      "text/latex": [
       "$\\displaystyle 0$"
      ],
      "text/plain": [
       "0"
      ]
     },
     "execution_count": 274,
     "metadata": {},
     "output_type": "execute_result"
    }
   ],
   "source": [
    "prob_kill_b_equ = (p_kill_b - (p_b + p_b*p_kill_b**2 + 2*p_a*p_kill_a*p_kill_b)).subs({p_b: 0.5-p_a})\n",
    "prob_kill_b_equ = prob_kill_b_equ.simplify()*(p_kill_a**2*(4.0*p_a-2.0)/(p_a)).simplify()\n",
    "prob_kill_b_equ.subs({p_kill_a:1})"
   ]
  },
  {
   "cell_type": "code",
   "execution_count": 275,
   "metadata": {},
   "outputs": [
    {
     "data": {
      "text/latex": [
       "$\\displaystyle \\operatorname{Poly}{\\left( -3.0 \\left(p^{kill}_{a}\\right)^{3} + \\frac{1.0 \\cdot \\left(4.0 - 3.0 p_{a}\\right)}{p_{a}} \\left(p^{kill}_{a}\\right)^{2} - 1.0 p^{kill}_{a} - 1.0, p^{kill}_{a}, domain=\\mathbb{R}\\left(p_{a}\\right) \\right)}$"
      ],
      "text/plain": [
       "Poly(-3.0*p_a__kill**3 + 1.0*(4.0 - 3.0*p_a)/p_a*p_a__kill**2 - 1.0*p_a__kill - 1.0, p_a__kill, domain='RR(p_a)')"
      ]
     },
     "execution_count": 275,
     "metadata": {},
     "output_type": "execute_result"
    }
   ],
   "source": [
    "prob_kill_b_equ = sp.div(prob_kill_b_equ, (p_kill_a-1))[0]\n",
    "sp.Poly((prob_kill_b_equ/p_a).expand(),p_kill_a)"
   ]
  }
 ],
 "metadata": {
  "kernelspec": {
   "display_name": "Python 3.8.13 ('base')",
   "language": "python",
   "name": "python3"
  },
  "language_info": {
   "codemirror_mode": {
    "name": "ipython",
    "version": 3
   },
   "file_extension": ".py",
   "mimetype": "text/x-python",
   "name": "python",
   "nbconvert_exporter": "python",
   "pygments_lexer": "ipython3",
   "version": "3.11.4"
  },
  "orig_nbformat": 4,
  "vscode": {
   "interpreter": {
    "hash": "27871bb776cd64da3396aefbb91cd1f5b94cfa7205ce999e2f32adc9cda7309b"
   }
  }
 },
 "nbformat": 4,
 "nbformat_minor": 2
}
