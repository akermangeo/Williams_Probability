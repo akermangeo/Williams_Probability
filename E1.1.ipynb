{
 "cells": [
  {
   "cell_type": "code",
   "execution_count": 51,
   "metadata": {},
   "outputs": [],
   "source": [
    "import sympy as sp"
   ]
  },
  {
   "cell_type": "code",
   "execution_count": 52,
   "metadata": {},
   "outputs": [],
   "source": [
    "p_a, p_b, p_kill_a, p_kill_b= sp.symbols('p_a p_b p_a__kill p_b__kill')"
   ]
  },
  {
   "cell_type": "code",
   "execution_count": 55,
   "metadata": {},
   "outputs": [
    {
     "data": {
      "text/plain": [
       "[(2.0*p_b*p_b__kill - 2.0*sqrt(p_b*(p_b__kill - 1.0)*(p_b*p_b__kill + p_b - 1.0)) - 1.0)/(2.0*p_b - 1.0),\n",
       " (2.0*p_b*p_b__kill + 2.0*sqrt(p_b*(p_b__kill - 1.0)*(p_b*p_b__kill + p_b - 1.0)) - 1.0)/(2.0*p_b - 1.0)]"
      ]
     },
     "execution_count": 55,
     "metadata": {},
     "output_type": "execute_result"
    }
   ],
   "source": [
    "prob_kill_a_equ = (p_kill_a - (p_a + p_a*p_kill_a**2 + 2*p_b*p_kill_a*p_kill_b)).subs({p_a: 0.5-p_b})\n",
    "sp.solve(prob_kill_a_equ, p_kill_a)"
   ]
  },
  {
   "cell_type": "code",
   "execution_count": 54,
   "metadata": {},
   "outputs": [
    {
     "ename": "TypeError",
     "evalue": "unsupported operand type(s) for ** or pow(): 'list' and 'int'",
     "output_type": "error",
     "traceback": [
      "\u001b[1;31m---------------------------------------------------------------------------\u001b[0m",
      "\u001b[1;31mTypeError\u001b[0m                                 Traceback (most recent call last)",
      "Cell \u001b[1;32mIn [54], line 1\u001b[0m\n\u001b[1;32m----> 1\u001b[0m prob_kill_a \u001b[39m=\u001b[39m sp\u001b[39m.\u001b[39msolve(prob_kill_a \u001b[39m-\u001b[39m (prob_a \u001b[39m+\u001b[39m prob_a\u001b[39m*\u001b[39mprob_kill_a\u001b[39m*\u001b[39;49m\u001b[39m*\u001b[39;49m\u001b[39m2\u001b[39;49m \u001b[39m+\u001b[39m \u001b[39m2\u001b[39m\u001b[39m*\u001b[39mprob_b\u001b[39m*\u001b[39mprob_kill_a\u001b[39m*\u001b[39mprob_kill_b), prob_kill_a)\n",
      "\u001b[1;31mTypeError\u001b[0m: unsupported operand type(s) for ** or pow(): 'list' and 'int'"
     ]
    }
   ],
   "source": [
    "prob_kill_a = sp.solve(prob_kill_a - (prob_a + prob_a*prob_kill_a**2 + 2*prob_b*prob_kill_a*prob_kill_b), prob_kill_a)"
   ]
  },
  {
   "cell_type": "code",
   "execution_count": null,
   "metadata": {},
   "outputs": [
    {
     "ename": "TypeError",
     "evalue": "unsupported operand type(s) for ** or pow(): 'list' and 'int'",
     "output_type": "error",
     "traceback": [
      "\u001b[1;31m---------------------------------------------------------------------------\u001b[0m",
      "\u001b[1;31mTypeError\u001b[0m                                 Traceback (most recent call last)",
      "Cell \u001b[1;32mIn [25], line 1\u001b[0m\n\u001b[1;32m----> 1\u001b[0m prob_kill_a\u001b[39m*\u001b[39;49m\u001b[39m*\u001b[39;49m\u001b[39m2\u001b[39;49m\n",
      "\u001b[1;31mTypeError\u001b[0m: unsupported operand type(s) for ** or pow(): 'list' and 'int'"
     ]
    }
   ],
   "source": [
    "prob_kill_a**2\n"
   ]
  }
 ],
 "metadata": {
  "kernelspec": {
   "display_name": "Python 3.8.13 ('base')",
   "language": "python",
   "name": "python3"
  },
  "language_info": {
   "codemirror_mode": {
    "name": "ipython",
    "version": 3
   },
   "file_extension": ".py",
   "mimetype": "text/x-python",
   "name": "python",
   "nbconvert_exporter": "python",
   "pygments_lexer": "ipython3",
   "version": "3.8.13"
  },
  "orig_nbformat": 4,
  "vscode": {
   "interpreter": {
    "hash": "27871bb776cd64da3396aefbb91cd1f5b94cfa7205ce999e2f32adc9cda7309b"
   }
  }
 },
 "nbformat": 4,
 "nbformat_minor": 2
}
